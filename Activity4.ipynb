{
  "nbformat": 4,
  "nbformat_minor": 0,
  "metadata": {
    "colab": {
      "provenance": [],
      "authorship_tag": "ABX9TyM6SRwSBRK9RREsDxY5Iwjx",
      "include_colab_link": true
    },
    "kernelspec": {
      "name": "python3",
      "display_name": "Python 3"
    },
    "language_info": {
      "name": "python"
    }
  },
  "cells": [
    {
      "cell_type": "markdown",
      "metadata": {
        "id": "view-in-github",
        "colab_type": "text"
      },
      "source": [
        "<a href=\"https://colab.research.google.com/github/JamesHop31/Activity4/blob/main/Activity4.ipynb\" target=\"_parent\"><img src=\"https://colab.research.google.com/assets/colab-badge.svg\" alt=\"Open In Colab\"/></a>"
      ]
    },
    {
      "cell_type": "code",
      "execution_count": 11,
      "metadata": {
        "colab": {
          "base_uri": "https://localhost:8080/"
        },
        "id": "y-KLb84aYXP5",
        "outputId": "ab7a1d64-5c9e-4408-afb4-6ca208d14316"
      },
      "outputs": [
        {
          "output_type": "stream",
          "name": "stdout",
          "text": [
            "37.7\n"
          ]
        }
      ],
      "source": [
        "Add = 12.0 + 25.7\n",
        "print(Add)"
      ]
    },
    {
      "cell_type": "code",
      "source": [
        "Subtract = 12.0 - 25.7\n",
        "print(Subtract)"
      ],
      "metadata": {
        "colab": {
          "base_uri": "https://localhost:8080/"
        },
        "id": "6q_22fjmZira",
        "outputId": "34663a90-ca43-4a07-b6dc-2598cdd5b759"
      },
      "execution_count": 12,
      "outputs": [
        {
          "output_type": "stream",
          "name": "stdout",
          "text": [
            "-13.7\n"
          ]
        }
      ]
    },
    {
      "cell_type": "code",
      "source": [
        "Multiply = 12.0*25.7\n",
        "print(Multiply)"
      ],
      "metadata": {
        "colab": {
          "base_uri": "https://localhost:8080/"
        },
        "id": "s2MCaGsQaYp8",
        "outputId": "2f081ff5-78ca-4cbb-bd2b-70db26070a3f"
      },
      "execution_count": 13,
      "outputs": [
        {
          "output_type": "stream",
          "name": "stdout",
          "text": [
            "308.4\n"
          ]
        }
      ]
    },
    {
      "cell_type": "code",
      "source": [
        "Remainder = 12.0 % 25.7\n",
        "print(Remainder)"
      ],
      "metadata": {
        "colab": {
          "base_uri": "https://localhost:8080/"
        },
        "id": "310qTUhgamEI",
        "outputId": "c1a8038e-123e-4988-bb36-ae5403623b85"
      },
      "execution_count": 16,
      "outputs": [
        {
          "output_type": "stream",
          "name": "stdout",
          "text": [
            "12.0\n"
          ]
        }
      ]
    },
    {
      "cell_type": "code",
      "source": [
        "Quotient = 12.0/25.7\n",
        "print(Quotient)"
      ],
      "metadata": {
        "colab": {
          "base_uri": "https://localhost:8080/"
        },
        "id": "RgCIdb6MbclG",
        "outputId": "5eccacbc-df20-4757-eee2-bfba52db6766"
      },
      "execution_count": 17,
      "outputs": [
        {
          "output_type": "stream",
          "name": "stdout",
          "text": [
            "0.4669260700389105\n"
          ]
        }
      ]
    },
    {
      "cell_type": "code",
      "source": [
        "Power = 12.0**25.7\n",
        "print(Power)"
      ],
      "metadata": {
        "colab": {
          "base_uri": "https://localhost:8080/"
        },
        "id": "pVucwrnsbwBq",
        "outputId": "a485e5e7-f797-41b4-8d97-e7ff4df929ef"
      },
      "execution_count": 23,
      "outputs": [
        {
          "output_type": "stream",
          "name": "stdout",
          "text": [
            "5.43197826365636e+27\n"
          ]
        }
      ]
    },
    {
      "cell_type": "code",
      "source": [
        "Quotient = 12.0//25.7\n",
        "print(Quotient)"
      ],
      "metadata": {
        "colab": {
          "base_uri": "https://localhost:8080/"
        },
        "id": "3OVBbQaPj5ai",
        "outputId": "76e72f8b-d37e-43a9-fcda-c611a2f9bb4a"
      },
      "execution_count": 33,
      "outputs": [
        {
          "output_type": "stream",
          "name": "stdout",
          "text": [
            "0.0\n"
          ]
        }
      ]
    }
  ]
}